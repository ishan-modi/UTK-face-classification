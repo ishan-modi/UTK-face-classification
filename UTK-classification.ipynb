{
 "cells": [
  {
   "cell_type": "code",
   "execution_count": 45,
   "metadata": {},
   "outputs": [],
   "source": [
    "import os\n",
    "import pandas as pd\n",
    "import numpy as np\n",
    "\n",
    "data=pd.DataFrame(columns=['age','gender','race','location'])\n",
    "gender={'male':0,'female':1}\n",
    "race={'White':0, 'Black':1, 'Asian':2, 'Indian':3, 'Others':4 }\n",
    "\n",
    "cnt=0\n",
    "for a,b,c in os.walk('UTKFace'):\n",
    "        for j in c:\n",
    "            try:\n",
    "                l=j.split('_')\n",
    "                l.pop()\n",
    "                l.append('UTKFace/'+j)\n",
    "                s=pd.Series(l,index=data.columns)\n",
    "                data=data.append(s,ignore_index=True)\n",
    "            except:\n",
    "                continue"
   ]
  },
  {
   "cell_type": "code",
   "execution_count": 46,
   "metadata": {},
   "outputs": [
    {
     "data": {
      "text/html": [
       "<div>\n",
       "<style scoped>\n",
       "    .dataframe tbody tr th:only-of-type {\n",
       "        vertical-align: middle;\n",
       "    }\n",
       "\n",
       "    .dataframe tbody tr th {\n",
       "        vertical-align: top;\n",
       "    }\n",
       "\n",
       "    .dataframe thead th {\n",
       "        text-align: right;\n",
       "    }\n",
       "</style>\n",
       "<table border=\"1\" class=\"dataframe\">\n",
       "  <thead>\n",
       "    <tr style=\"text-align: right;\">\n",
       "      <th></th>\n",
       "      <th>age</th>\n",
       "      <th>gender</th>\n",
       "      <th>race</th>\n",
       "      <th>location</th>\n",
       "    </tr>\n",
       "  </thead>\n",
       "  <tbody>\n",
       "    <tr>\n",
       "      <th>0</th>\n",
       "      <td>9</td>\n",
       "      <td>1</td>\n",
       "      <td>2</td>\n",
       "      <td>UTKFace/9_1_2_20161219204347420.jpg.chip.jpg</td>\n",
       "    </tr>\n",
       "    <tr>\n",
       "      <th>1</th>\n",
       "      <td>36</td>\n",
       "      <td>0</td>\n",
       "      <td>1</td>\n",
       "      <td>UTKFace/36_0_1_20170117163203851.jpg.chip.jpg</td>\n",
       "    </tr>\n",
       "    <tr>\n",
       "      <th>2</th>\n",
       "      <td>86</td>\n",
       "      <td>1</td>\n",
       "      <td>0</td>\n",
       "      <td>UTKFace/86_1_0_20170120225751953.jpg.chip.jpg</td>\n",
       "    </tr>\n",
       "    <tr>\n",
       "      <th>3</th>\n",
       "      <td>26</td>\n",
       "      <td>1</td>\n",
       "      <td>0</td>\n",
       "      <td>UTKFace/26_1_0_20170116171048641.jpg.chip.jpg</td>\n",
       "    </tr>\n",
       "    <tr>\n",
       "      <th>4</th>\n",
       "      <td>1</td>\n",
       "      <td>1</td>\n",
       "      <td>2</td>\n",
       "      <td>UTKFace/1_1_2_20161219154612988.jpg.chip.jpg</td>\n",
       "    </tr>\n",
       "  </tbody>\n",
       "</table>\n",
       "</div>"
      ],
      "text/plain": [
       "  age gender race                                       location\n",
       "0   9      1    2   UTKFace/9_1_2_20161219204347420.jpg.chip.jpg\n",
       "1  36      0    1  UTKFace/36_0_1_20170117163203851.jpg.chip.jpg\n",
       "2  86      1    0  UTKFace/86_1_0_20170120225751953.jpg.chip.jpg\n",
       "3  26      1    0  UTKFace/26_1_0_20170116171048641.jpg.chip.jpg\n",
       "4   1      1    2   UTKFace/1_1_2_20161219154612988.jpg.chip.jpg"
      ]
     },
     "execution_count": 46,
     "metadata": {},
     "output_type": "execute_result"
    }
   ],
   "source": [
    "data.head()"
   ]
  },
  {
   "cell_type": "code",
   "execution_count": 71,
   "metadata": {},
   "outputs": [],
   "source": [
    "from sklearn.model_selection import train_test_split\n",
    "\n",
    "X=data['location']\n",
    "y=data.drop('location',axis=1)\n",
    "\n",
    "X_train, X_test, y_train, y_test = train_test_split(X, y, test_size=0.33, random_state=42)\n",
    "\n",
    "X_train.reset_index(drop=True,inplace=True)\n",
    "X_test.reset_index(drop=True,inplace=True)\n",
    "y_train.reset_index(drop=True,inplace=True)\n",
    "y_test.reset_index(drop=True,inplace=True)"
   ]
  },
  {
   "cell_type": "code",
   "execution_count": 74,
   "metadata": {},
   "outputs": [
    {
     "ename": "SyntaxError",
     "evalue": "invalid syntax (<ipython-input-74-47acee3d1585>, line 13)",
     "output_type": "error",
     "traceback": [
      "\u001b[0;36m  File \u001b[0;32m\"<ipython-input-74-47acee3d1585>\"\u001b[0;36m, line \u001b[0;32m13\u001b[0m\n\u001b[0;31m    x=Con2D(64,(3,3),Activation='relu')(x)\u001b[0m\n\u001b[0m    ^\u001b[0m\n\u001b[0;31mSyntaxError\u001b[0m\u001b[0;31m:\u001b[0m invalid syntax\n"
     ]
    }
   ],
   "source": [
    "import tensorflow\n",
    "from tensorflow.keras.models import Model\n",
    "from tensorflow.keras.layers import Conv2D,Dense,BatchNormalization,MaxPool2D,Activation\n",
    "\n",
    "class model():\n",
    "    \n",
    "    def common_model(self,inp_shape):\n",
    "    \n",
    "        x=Con2D(64,(3,3),Activation='relu')(inp_shape)\n",
    "        x=MaxPool2D((2,2))(x)\n",
    "        x=BatchNormalization(ax(x)\n",
    "\n",
    "        x=Con2D(64,(3,3),Activation='relu')(x)\n",
    "        x=MaxPool2D((2,2))(x)\n",
    "        x=BatchNormalization(x)\n",
    "\n",
    "        x=Con2D(64,(3,3),Activation='relu')(x)\n",
    "        x=MaxPool2D((2,2))(x)\n",
    "        x=BatchNormalization(x)\n",
    "\n",
    "        x=Con2D(64,(3,3),Activation='relu')(x)\n",
    "        x=MaxPool2D((2,2))(x)\n",
    "        x=BatchNormalization(x)\n",
    "\n",
    "        return x\n",
    "\n",
    "    def race_model():\n",
    "            \n",
    "            \n",
    "            \n",
    "    def age_model():\n",
    "        \n",
    "    def gender_model():\n",
    "\n",
    "    def assemble_model(self,inp_shape):\n",
    "                             \n",
    "        "
   ]
  },
  {
   "cell_type": "code",
   "execution_count": null,
   "metadata": {},
   "outputs": [],
   "source": []
  }
 ],
 "metadata": {
  "kernelspec": {
   "display_name": "Python 3",
   "language": "python",
   "name": "python3"
  },
  "language_info": {
   "codemirror_mode": {
    "name": "ipython",
    "version": 3
   },
   "file_extension": ".py",
   "mimetype": "text/x-python",
   "name": "python",
   "nbconvert_exporter": "python",
   "pygments_lexer": "ipython3",
   "version": "3.7.7"
  }
 },
 "nbformat": 4,
 "nbformat_minor": 4
}
